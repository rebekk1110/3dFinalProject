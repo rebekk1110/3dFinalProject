{
 "cells": [
  {
   "cell_type": "markdown",
   "metadata": {},
   "source": [
    "# Final project"
   ]
  },
  {
   "cell_type": "markdown",
   "metadata": {},
   "source": [
    "## Pre processing \n"
   ]
  },
  {
   "cell_type": "markdown",
   "metadata": {},
   "source": [
    "### Importer"
   ]
  },
  {
   "cell_type": "code",
   "execution_count": 1,
   "metadata": {},
   "outputs": [],
   "source": [
    "import laspy\n",
    "import numpy as np\n",
    "import pandas as pd\n",
    "import open3d as o3d\n",
    "import time\n",
    "from sklearn.model_selection import train_test_split\n",
    "from sklearn.ensemble import RandomForestClassifier\n",
    "from sklearn.metrics import classification_report\n",
    "import matplotlib.pyplot as plt\n"
   ]
  },
  {
   "cell_type": "markdown",
   "metadata": {},
   "source": [
    "### Loading labled data (laspy)\n"
   ]
  },
  {
   "cell_type": "code",
   "execution_count": 2,
   "metadata": {},
   "outputs": [],
   "source": [
    "def load_point_cloud(file_path, max_points=None):\n",
    "    with laspy.open(file_path) as f:\n",
    "        las = f.read()\n",
    "        # Get the total number of points\n",
    "        total_points = len(las.points)\n",
    "        \n",
    "        # If max_points is specified, randomly sample the points\n",
    "        if max_points and max_points < total_points:\n",
    "            indices = np.random.choice(total_points, max_points, replace=False)\n",
    "            points = las.points[indices]\n",
    "        else:\n",
    "            points = las.points\n",
    "\n",
    "        # Explicitly create lists for each attribute\n",
    "        data = {\n",
    "            'x': points['X'] * las.header.scale[0] + las.header.offset[0],\n",
    "            'y': points['Y'] * las.header.scale[1] + las.header.offset[1],\n",
    "            'z': points['Z'] * las.header.scale[2] + las.header.offset[2],\n",
    "            'classification': points['classification'],\n",
    "            'intensity': points['intensity']\n",
    "        }\n",
    "        df = pd.DataFrame(data)\n",
    "\n",
    "    return df\n"
   ]
  },
  {
   "cell_type": "code",
   "execution_count": 1,
   "metadata": {},
   "outputs": [],
   "source": [
    "def df_to_o3d_point_cloud(df):\n",
    "    points = df[['x', 'y', 'z']].values\n",
    "    pcd = o3d.geometry.PointCloud()\n",
    "    pcd.points = o3d.utility.Vector3dVector(points)\n",
    "    return pcd\n",
    "\n",
    "# Step 3: Voxelize the Point Cloud using Open3D\n",
    "def voxelize_point_cloud(pcd, voxel_size=1.0):\n",
    "    # Apply voxelization\n",
    "    voxel_grid = o3d.geometry.VoxelGrid.create_from_point_cloud(pcd, voxel_size=voxel_size)\n",
    "    return voxel_grid"
   ]
  },
  {
   "cell_type": "code",
   "execution_count": null,
   "metadata": {},
   "outputs": [],
   "source": [
    "def main():\n",
    "    file_path = \"data/cloud_final_kopi.las\"\n",
    "    \n",
    "    # Load a smaller subset of points\n",
    "    max_points = 10000  # Adjust this number based on your system's capabilities\n",
    "    start_time = time.time()\n",
    "    \n",
    "    print(f\"Loading up to {max_points} points...\")\n",
    "    df = load_point_cloud(file_path, max_points=max_points)\n",
    "    print(f\"Loaded {len(df)} points in {time.time() - start_time:.2f} seconds\")\n",
    "    \n",
    "    start_time = time.time()\n",
    "    pcd = df_to_o3d_point_cloud(df)\n",
    "    print(f\"Converted to Open3D Point Cloud in {time.time() - start_time:.2f} seconds\")\n",
    "    \n",
    "    # Perform Voxelization with a larger voxel size\n",
    "    voxel_size = 5.0  # Increased voxel size for faster processing\n",
    "    start_time = time.time()\n",
    "    voxel_grid = voxelize_point_cloud(pcd, voxel_size)\n",
    "    print(f\"Voxelization complete in {time.time() - start_time:.2f} seconds\")\n",
    "\n",
    "    print(\"Number of voxels:\", len(voxel_grid.get_voxels()))\n",
    "\n",
    "    # Save the voxel grid to a file\n",
    "    o3d.io.write_voxel_grid(\"voxel_grid.ply\", voxel_grid)\n",
    "    print(\"Voxel grid saved to 'voxel_grid.ply'\")\n",
    "\n",
    "    # Instead of visualizing, let's save the voxel grid to a file\n",
    "    # o3d.io.write_voxel_grid(\"voxel_grid.ply\", voxel_grid)\n",
    "    #print(\"Voxel grid saved to 'voxel_grid.ply'\")\n",
    "\n",
    "if __name__ == \"__main__\":\n",
    "    main()\n"
   ]
  }
 ],
 "metadata": {
  "kernelspec": {
   "display_name": "myenv",
   "language": "python",
   "name": "python3"
  },
  "language_info": {
   "codemirror_mode": {
    "name": "ipython",
    "version": 3
   },
   "file_extension": ".py",
   "mimetype": "text/x-python",
   "name": "python",
   "nbconvert_exporter": "python",
   "pygments_lexer": "ipython3",
   "version": "3.11.10"
  }
 },
 "nbformat": 4,
 "nbformat_minor": 2
}
