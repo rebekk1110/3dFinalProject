{
 "cells": [
  {
   "cell_type": "markdown",
   "metadata": {},
   "source": [
    "# Final project"
   ]
  },
  {
   "cell_type": "markdown",
   "metadata": {},
   "source": [
    "## Pre processing \n"
   ]
  },
  {
   "cell_type": "markdown",
   "metadata": {},
   "source": [
    "### Importer"
   ]
  },
  {
   "cell_type": "code",
   "execution_count": 50,
   "metadata": {},
   "outputs": [],
   "source": [
    "import open3d as o3d\n",
    "import laspy\n",
    "import numpy as np\n",
    "import pandas as pd\n",
    "import time\n",
    "from sklearn.model_selection import train_test_split\n",
    "from sklearn.ensemble import RandomForestClassifier\n",
    "from sklearn.metrics import classification_report\n",
    "from sklearn.decomposition import PCA\n",
    "from collections import Counter\n",
    "import matplotlib.pyplot as plt\n",
    "from collections import Counter\n",
    "from sklearn.decomposition import PCA\n",
    "from sklearn.metrics import confusion_matrix, ConfusionMatrixDisplay\n"
   ]
  },
  {
   "cell_type": "code",
   "execution_count": 51,
   "metadata": {},
   "outputs": [
    {
     "name": "stdout",
     "output_type": "stream",
     "text": [
      "1.26.4\n"
     ]
    }
   ],
   "source": [
    "print(np.__version__)"
   ]
  },
  {
   "cell_type": "markdown",
   "metadata": {},
   "source": [
    "### Loading labled data (laspy)\n"
   ]
  },
  {
   "cell_type": "code",
   "execution_count": 52,
   "metadata": {},
   "outputs": [
    {
     "name": "stdout",
     "output_type": "stream",
     "text": [
      "Scale factors (units per coordinate step):\n",
      "X scale: 0.01\n",
      "Y scale: 0.01\n",
      "Z scale: 0.01\n",
      "\n",
      "Offsets (origin of coordinates):\n",
      "X offset: 569000.0\n",
      "Y offset: 7022000.0\n",
      "Z offset: -0.0\n",
      "\n",
      "Bounding box (min and max coordinates):\n",
      "X range: 568800.01 to 569268.58\n",
      "Y range: 7022123.91 to 7022399.99\n",
      "Z range: 157.44 to 232.39000000000001\n",
      "\n",
      "Assume units in meters if the CRS is georeferenced (e.g., UTM).\n"
     ]
    }
   ],
   "source": [
    "import laspy\n",
    "\n",
    "# Path to your LAS file\n",
    "file_path = \"data/cloud_final_kopi.las\"\n",
    "\n",
    "# Open the LAS file and inspect the header\n",
    "with laspy.open(file_path) as f:\n",
    "    las = f.read()\n",
    "    header = f.header\n",
    "\n",
    "    # Print scale and offset (defines coordinate system precision)\n",
    "    print(\"Scale factors (units per coordinate step):\")\n",
    "    print(f\"X scale: {header.scale[0]}\")\n",
    "    print(f\"Y scale: {header.scale[1]}\")\n",
    "    print(f\"Z scale: {header.scale[2]}\")\n",
    "\n",
    "    print(\"\\nOffsets (origin of coordinates):\")\n",
    "    print(f\"X offset: {header.offset[0]}\")\n",
    "    print(f\"Y offset: {header.offset[1]}\")\n",
    "    print(f\"Z offset: {header.offset[2]}\")\n",
    "\n",
    "    # Estimate the range of coordinates\n",
    "    x_min, y_min, z_min = las.x.min(), las.y.min(), las.z.min()\n",
    "    x_max, y_max, z_max = las.x.max(), las.y.max(), las.z.max()\n",
    "\n",
    "    print(\"\\nBounding box (min and max coordinates):\")\n",
    "    print(f\"X range: {x_min} to {x_max}\")\n",
    "    print(f\"Y range: {y_min} to {y_max}\")\n",
    "    print(f\"Z range: {z_min} to {z_max}\")\n",
    "\n",
    "    # Assume the coordinates are in meters if the CRS is known\n",
    "    print(\"\\nAssume units in meters if the CRS is georeferenced (e.g., UTM).\")"
   ]
  },
  {
   "cell_type": "code",
   "execution_count": 53,
   "metadata": {},
   "outputs": [],
   "source": [
    "# Step 1: Load Point Cloud\n",
    "file_path = \"data/cloud_final_kopi.las\"\n",
    "\n",
    "with laspy.open(file_path) as f:\n",
    "    las = f.read()\n",
    "    total_points = len(las.points)\n",
    "\n",
    "    points = las.points\n",
    "\n",
    "    data = {\n",
    "        'x': points['X'] * las.header.scale[0] + las.header.offset[0],\n",
    "        'y': points['Y'] * las.header.scale[1] + las.header.offset[1],\n",
    "        'z': points['Z'] * las.header.scale[2] + las.header.offset[2],\n",
    "        'classification': points['classification'],\n",
    "        'intensity': points['intensity']\n",
    "    }\n",
    "    df = pd.DataFrame(data)"
   ]
  },
  {
   "cell_type": "code",
   "execution_count": 54,
   "metadata": {},
   "outputs": [
    {
     "data": {
      "text/plain": [
       "array([5, 3, 8, 2, 7, 4, 9, 1], dtype=uint8)"
      ]
     },
     "execution_count": 54,
     "metadata": {},
     "output_type": "execute_result"
    }
   ],
   "source": [
    "df.head()\n",
    "df['classification'].unique()"
   ]
  },
  {
   "cell_type": "markdown",
   "metadata": {},
   "source": [
    "### Bestmme voxel strl."
   ]
  },
  {
   "cell_type": "code",
   "execution_count": 55,
   "metadata": {},
   "outputs": [],
   "source": [
    "voxel_size = 4"
   ]
  },
  {
   "cell_type": "code",
   "execution_count": 56,
   "metadata": {},
   "outputs": [],
   "source": [
    "voxel_size = 4\n",
    "points = df[['x', 'y', 'z']].values\n",
    "pcd = o3d.geometry.PointCloud()\n",
    "pcd.points = o3d.utility.Vector3dVector(points)\n",
    "voxel_grid = o3d.geometry.VoxelGrid.create_from_point_cloud(pcd, voxel_size=voxel_size)\n",
    "\n"
   ]
  },
  {
   "cell_type": "markdown",
   "metadata": {},
   "source": [
    "### Details"
   ]
  },
  {
   "cell_type": "code",
   "execution_count": 57,
   "metadata": {},
   "outputs": [],
   "source": [
    "# Bounding box for splitting\n",
    "x_min, y_min, z_min = df[['x', 'y', 'z']].min()\n",
    "x_max, y_max, z_max = df[['x', 'y', 'z']].max()\n",
    "\n",
    "# Diagonal line parameters\n",
    "b = y_min - x_min  # Intercept\n",
    "m = 1  # Slope (diagonal line)\n",
    "\n",
    "offset = (y_max - y_min) * -0.1  # Adjust this to shift the diagonal lower, e.g., 10% of the y-axis range\n",
    "threshold_factor=0"
   ]
  },
  {
   "cell_type": "code",
   "execution_count": 58,
   "metadata": {},
   "outputs": [
    {
     "name": "stdout",
     "output_type": "stream",
     "text": [
      "Voxel size: 4\n",
      "Number of voxels: 16491\n"
     ]
    }
   ],
   "source": [
    "#o3d.visualization.draw_geometries([voxel_grid], window_name=\"Voxel Grid Visualization\", width=800, height=600)\n",
    "#o3d.visualization.Visualizer().destroy_window()\n",
    "print(\"Voxel size:\", voxel_size)\n",
    "print(\"Number of voxels:\", len(voxel_grid.get_voxels()))\n"
   ]
  },
  {
   "cell_type": "code",
   "execution_count": 59,
   "metadata": {},
   "outputs": [],
   "source": [
    "# Step 4: Calculate features for each voxel\n",
    "voxel_features = {}\n",
    "training_indices = []\n",
    "test_indices = []\n"
   ]
  },
  {
   "cell_type": "code",
   "execution_count": 60,
   "metadata": {},
   "outputs": [],
   "source": [
    "# Helper function to check location relative to modified diagonal\n",
    "def is_below_modified_diagonal(x, y):\n",
    "    \"\"\"Check if a point is below the modified diagonal line with extra bias towards bottom-left corner.\"\"\"\n",
    "    # Adjust the condition to make the diagonal further down by adding an offset to the y-values\n",
    "    return (y <= m * x + (b + offset)) or (x <= x_min + (x_max - x_min) * threshold_factor and y <= y_min + (y_max - y_min) * threshold_factor)\n",
    "\n"
   ]
  },
  {
   "cell_type": "markdown",
   "metadata": {},
   "source": [
    "### Calculations"
   ]
  },
  {
   "cell_type": "code",
   "execution_count": 61,
   "metadata": {},
   "outputs": [],
   "source": [
    "\n",
    "# Step 1: Define feature and residual calculation functions\n",
    "def fit_plane(points):\n",
    "    \"\"\"Fit a plane to points in 3D using PCA and return the normal and centroid.\"\"\"\n",
    "    pca = PCA(n_components=3)\n",
    "    pca.fit(points)\n",
    "    normal_vector = pca.components_[0]  # Normal vector of the plane (first principal component)\n",
    "    centroid = np.mean(points, axis=0)  # Centroid of the points\n",
    "    return normal_vector, centroid\n",
    "\n",
    "\n",
    "def calculate_orthogonal_distances(points, normal_vector, centroid):\n",
    "    \"\"\"Calculate the orthogonal distances of points to a plane defined by a normal and centroid.\"\"\"\n",
    "    distances = np.abs((points - centroid).dot(normal_vector))  # Orthogonal distance to the plane\n",
    "    return distances\n",
    "\n",
    "\n",
    "def calculate_residual(distances):\n",
    "    \"\"\"Calculate the residual value as the root mean square of orthogonal distances.\"\"\"\n",
    "    residual = np.sqrt(np.mean(distances ** 2))  # Root mean square of distances\n",
    "    return residual\n",
    "\n",
    "\n",
    "def calculate_features(eigenvalues):\n",
    "    \"\"\"Calculate the features based on eigenvalues λ1, λ2, and λ3.\"\"\"\n",
    "    λ1, λ2, λ3 = eigenvalues\n",
    "    \n",
    "    # Compute features\n",
    "    linearity = (λ1 - λ2) / λ1\n",
    "    planarity = (λ2 - λ3) / λ1\n",
    "    scattering = λ3 / λ1\n",
    "    omnivariance = (λ1 * λ2 * λ3) ** (1/3)\n",
    "    sum_of_eigenvalues = λ1 + λ2 + λ3\n",
    "    anisotropy = (λ1 - λ3) / λ1\n",
    "    eigenentropy = -np.sum([λ * np.log(λ) for λ in eigenvalues if λ > 0])  # Ignore non-positive eigenvalues in log\n",
    "    change_of_curvature = λ3 / sum_of_eigenvalues\n",
    "\n",
    "    return {\n",
    "        \"linearity\": linearity,\n",
    "        \"planarity\": planarity,\n",
    "        \"scattering\": scattering,\n",
    "        \"omnivariance\": omnivariance,\n",
    "        \"sum_of_eigenvalues\": sum_of_eigenvalues,\n",
    "        \"anisotropy\": anisotropy,\n",
    "        \"eigenentropy\": eigenentropy,\n",
    "        \"change_of_curvature\": change_of_curvature\n",
    "    }\n"
   ]
  },
  {
   "cell_type": "markdown",
   "metadata": {},
   "source": [
    "### Main "
   ]
  },
  {
   "cell_type": "code",
   "execution_count": 62,
   "metadata": {},
   "outputs": [
    {
     "name": "stdout",
     "output_type": "stream",
     "text": [
      "Total voxels: 16491\n",
      "Voxels with fewer than 3 points: 575\n",
      "Voxels with all NaN classifications: 0\n",
      "Processed voxels: 15916\n",
      "Number of voxels with NaN classifications after feature extraction: 0\n",
      "Number of voxels with classifications after feature extraction: 15916\n",
      "Number of voxels without classification: 575\n"
     ]
    }
   ],
   "source": [
    "from collections import Counter\n",
    "from sklearn.decomposition import PCA\n",
    "\n",
    "total_voxels = 0\n",
    "voxels_with_few_points = 0\n",
    "voxels_all_nan = 0\n",
    "processed_voxels = 0\n",
    "\n",
    "# Iterate over each voxel in the voxel grid\n",
    "for voxel in voxel_grid.get_voxels():\n",
    "    total_voxels += 1\n",
    "    voxel_center = voxel.grid_index\n",
    "    min_bound = np.array(voxel_grid.origin) + np.array(voxel_center) * voxel_size\n",
    "    max_bound = min_bound + voxel_size\n",
    "    points_in_voxel = df[(df['x'] >= min_bound[0]) & (df['x'] < max_bound[0]) &\n",
    "                         (df['y'] >= min_bound[1]) & (df['y'] < max_bound[1]) &\n",
    "                         (df['z'] >= min_bound[2]) & (df['z'] < max_bound[2])]\n",
    "\n",
    "    if len(points_in_voxel) < 3:\n",
    "        voxels_with_few_points += 1\n",
    "        continue\n",
    "\n",
    "    # Handle NaN values\n",
    "    valid_classifications = points_in_voxel['classification'].dropna()\n",
    "    \n",
    "    if len(valid_classifications) == 0:\n",
    "        voxels_all_nan += 1\n",
    "        continue\n",
    "\n",
    "    # If we reach here, we have a voxel with enough points and at least one valid classification\n",
    "    processed_voxels += 1\n",
    "    \n",
    "    # Rest of the processing (feature extraction, etc.) remains the same\n",
    "    most_common_class = Counter(valid_classifications).most_common(1)[0][0]\n",
    "    \n",
    "    # Fit a plane and calculate residual\n",
    "    normal_vector, centroid = fit_plane(points_in_voxel[['x', 'y', 'z']].values)\n",
    "    distances = calculate_orthogonal_distances(points_in_voxel[['x', 'y', 'z']].values, normal_vector, centroid)\n",
    "    residual = calculate_residual(distances)\n",
    "\n",
    "    # Compute features\n",
    "    pca = PCA(n_components=3)\n",
    "    pca.fit(points_in_voxel[['x', 'y', 'z']].values)\n",
    "    eigenvalues = np.sort(pca.explained_variance_)[::-1]\n",
    "    features = calculate_features(eigenvalues)\n",
    "    features[\"residual\"] = residual\n",
    "    features[\"classification\"] = most_common_class\n",
    "\n",
    "    # Determine split\n",
    "    voxel_center_coords = min_bound + voxel_size / 2\n",
    "    if is_below_modified_diagonal(voxel_center_coords[0], voxel_center_coords[1]):\n",
    "        training_indices.append(tuple(voxel.grid_index))\n",
    "    else:\n",
    "        test_indices.append(tuple(voxel.grid_index))\n",
    "\n",
    "    voxel_features[tuple(voxel.grid_index)] = features\n",
    "\n",
    "# After processing all voxels, print summary statistics\n",
    "print(f\"Total voxels: {total_voxels}\")\n",
    "print(f\"Voxels with fewer than 3 points: {voxels_with_few_points}\")\n",
    "print(f\"Voxels with all NaN classifications: {voxels_all_nan}\")\n",
    "print(f\"Processed voxels: {processed_voxels}\")\n",
    "\n",
    "# Create DataFrame and check for NaN classifications\n",
    "features_df = pd.DataFrame.from_dict(voxel_features, orient='index')\n",
    "print(f\"Number of voxels with NaN classifications after feature extraction: {features_df['classification'].isna().sum()}\")\n",
    "print(f\"Number of voxels with classifications after feature extraction: {len(features_df)}\")\n",
    "\n",
    "# Calculate and print the number of voxels without classification\n",
    "voxels_without_classification = total_voxels - len(features_df)\n",
    "print(f\"Number of voxels without classification: {voxels_without_classification}\")"
   ]
  },
  {
   "cell_type": "code",
   "execution_count": 167,
   "metadata": {},
   "outputs": [
    {
     "name": "stdout",
     "output_type": "stream",
     "text": [
      "CSV file saved to: voxel_data.csv\n",
      "Total voxels: 15916\n",
      "Processed voxels: 15916\n"
     ]
    }
   ],
   "source": [
    "def save_voxel_data_to_csv(voxel_features, output_csv_path):\n",
    "    # Create DataFrame from voxel features\n",
    "    df = pd.DataFrame.from_dict(voxel_features, orient='index')\n",
    "    df.reset_index(inplace=True)\n",
    "    df.rename(columns={'index': 'voxel_index'}, inplace=True)\n",
    "    \n",
    "    # Add a column to indicate if the voxel was processed\n",
    "    df['processed'] = True\n",
    "    \n",
    "    # Save to CSV\n",
    "    df.to_csv(output_csv_path, index=False)\n",
    "    print(f\"CSV file saved to: {output_csv_path}\")\n",
    "    \n",
    "    # Print summary\n",
    "    print(f\"Total voxels: {len(df)}\")\n",
    "    print(f\"Processed voxels: {df['processed'].sum()}\")\n",
    "output_csv_path = \"voxel_data.csv\"\n",
    "save_voxel_data_to_csv(voxel_features, output_csv_path)"
   ]
  },
  {
   "cell_type": "code",
   "execution_count": null,
   "metadata": {},
   "outputs": [],
   "source": []
  },
  {
   "cell_type": "code",
   "execution_count": null,
   "metadata": {},
   "outputs": [],
   "source": [
    "def save_voxel_data_to_csv(voxel_features, output_csv_path):\n",
    "    # Create DataFrame from voxel features\n",
    "    df = pd.DataFrame.from_dict(voxel_features, orient='index')\n",
    "    df.reset_index(inplace=True)\n",
    "    df.rename(columns={'index': 'voxel_index'}, inplace=True)\n",
    "    \n",
    "    # Add a column to indicate if the voxel was processed\n",
    "    df['processed'] = True\n",
    "    \n",
    "    # Save to CSV\n",
    "    df.to_csv(output_csv_path, index=False)\n",
    "    print(f\"CSV file saved to: {output_csv_path}\")\n",
    "    \n",
    "    # Print summary\n",
    "    print(f\"Total voxels: {len(df)}\")\n",
    "    print(f\"Processed voxels: {df['processed'].sum()}\")\n",
    "output_csv_path = \"voxel_data.csv\"\n",
    "save_voxel_data_to_csv(voxel_features, output_csv_path)"
   ]
  },
  {
   "cell_type": "code",
   "execution_count": 5,
   "metadata": {},
   "outputs": [],
   "source": [
    "features_df = pd.read_csv(\"voxel_data.csv\")"
   ]
  },
  {
   "cell_type": "code",
   "execution_count": 6,
   "metadata": {},
   "outputs": [
    {
     "data": {
      "text/plain": [
       "array([8, 7, 5, 2, 1, 4, 3, 9])"
      ]
     },
     "execution_count": 6,
     "metadata": {},
     "output_type": "execute_result"
    }
   ],
   "source": [
    "features_df['classification'].unique()"
   ]
  },
  {
   "cell_type": "markdown",
   "metadata": {},
   "source": [
    "## Vis not finsish okey"
   ]
  },
  {
   "cell_type": "code",
   "execution_count": null,
   "metadata": {},
   "outputs": [
    {
     "name": "stdout",
     "output_type": "stream",
     "text": [
      "Total number of voxels: 16491\n",
      "Number of voxels with classification data: 15916\n",
      "Unique classifications found: {1, 2, 3, 4, 5, 7, 8, 9}\n",
      "Classification counts: {8: 7582, 7: 4150, 5: 263, 2: 1478, 1: 2389, 4: 35, 3: 5, 9: 14}\n",
      "Color counts: {(0, 1, 0): 7582, (1, 1, 0): 4150, (1, 0, 1): 263, (0, 0, 1): 1478, (1, 0, 0): 2389, (0.5, 0.5, 0.5): 594, (0, 1, 1): 35}\n",
      "Number of gray voxels: 594\n",
      "\u001b[1;33m[Open3D WARNING] GLFW Error: Cocoa: Failed to find service port for display\u001b[0;m\n"
     ]
    }
   ],
   "source": [
    "import open3d as o3d\n",
    "import numpy as np\n",
    "from collections import Counter\n",
    "\n",
    "# Define a color map for the classes (you can expand this if needed)\n",
    "class_colors = {\n",
    "    1: [1, 0, 0],    # Red\n",
    "    8: [0, 1, 0],    # Green\n",
    "    2: [0, 0, 1],    # Blue\n",
    "    7: [1, 1, 0],    # Yellow\n",
    "    5: [1, 0, 1],    # Magenta\n",
    "    4: [0, 1, 1],    # Cyan\n",
    "}\n",
    "\n",
    "# Function to visualize voxel grid with colors based on classification\n",
    "def visualize_colored_voxels(voxel_grid, voxel_features, voxel_size):\n",
    "    # Create a point cloud to represent voxel centers\n",
    "    points = []\n",
    "    colors = []\n",
    "    unique_classifications = set()\n",
    "    classification_count = Counter()\n",
    "    color_count = Counter()\n",
    "    voxels_with_classification = 0\n",
    "    total_voxels = 0\n",
    "\n",
    "    for voxel in voxel_grid.get_voxels():\n",
    "        total_voxels += 1\n",
    "        voxel_center = voxel.grid_index\n",
    "        voxel_coords = np.array(voxel_grid.origin) + (np.array(voxel_center) + 0.5) * voxel_size\n",
    "\n",
    "        # Get the classification for this voxel\n",
    "        voxel_data = voxel_features.get(tuple(voxel_center))\n",
    "        if voxel_data and 'classification' in voxel_data:\n",
    "            classification = voxel_data['classification']\n",
    "            unique_classifications.add(classification)\n",
    "            classification_count[classification] += 1\n",
    "            voxels_with_classification += 1\n",
    "        else:\n",
    "            classification = 0  # Default classification if not found\n",
    "\n",
    "        # Assign color based on classification\n",
    "        color = tuple(class_colors.get(classification, [0.5, 0.5, 0.5]))  # Default to gray if class not in color map\n",
    "        color_count[color] += 1\n",
    "\n",
    "        points.append(voxel_coords)\n",
    "        colors.append(color)\n",
    "\n",
    "    print(f\"Total number of voxels: {total_voxels}\")\n",
    "    print(f\"Number of voxels with classification data: {voxels_with_classification}\")\n",
    "    print(f\"Unique classifications found: {unique_classifications}\")\n",
    "    print(f\"Classification counts: {dict(classification_count)}\")\n",
    "    print(f\"Color counts: {dict(color_count)}\")\n",
    "    print(f\"Number of gray voxels: {color_count[(0.5, 0.5, 0.5)]}\")\n",
    "\n",
    "    # Create colored point cloud\n",
    "    pcd = o3d.geometry.PointCloud()\n",
    "    pcd.points = o3d.utility.Vector3dVector(points)\n",
    "    pcd.colors = o3d.utility.Vector3dVector(colors)\n",
    "\n",
    "    # Create a voxel grid from the colored point cloud\n",
    "    colored_voxel_grid = o3d.geometry.VoxelGrid.create_from_point_cloud(pcd, voxel_size)\n",
    "\n",
    "    # Visualize the colored voxel grid\n",
    "    vis = o3d.visualization.Visualizer()\n",
    "    vis.create_window(window_name=\"Colored Voxel Grid Visualization\", width=800, height=600)\n",
    "    vis.add_geometry(colored_voxel_grid)\n",
    "    \n",
    "    # Set a larger point size for better visibility\n",
    "    opt = vis.get_render_option()\n",
    "    opt.point_size = 5.0  # Adjust this value to change the size of the voxels\n",
    "    \n",
    "    vis.run()\n",
    "    vis.destroy_window()\n",
    "\n",
    "# Assuming you have your voxel_grid, voxel_features, and voxel_size defined\n",
    "# voxel_grid = ...\n",
    "# voxel_features = ...\n",
    "# voxel_size = ...\n",
    "\n",
    "#visualize_colored_voxels(voxel_grid, voxel_features, voxel_size)"
   ]
  },
  {
   "cell_type": "code",
   "execution_count": 201,
   "metadata": {},
   "outputs": [
    {
     "name": "stdout",
     "output_type": "stream",
     "text": [
      "Value counts in 'classification':\n",
      "classification\n",
      "8    7582\n",
      "7    4150\n",
      "1    2389\n",
      "2    1478\n",
      "5     263\n",
      "4      35\n",
      "9      14\n",
      "3       5\n",
      "Name: count, dtype: int64\n"
     ]
    }
   ],
   "source": [
    "class_c=features_df['classification'].value_counts()\n",
    "print(f\"Value counts in 'classification':\\n{class_c}\")\n"
   ]
  },
  {
   "cell_type": "markdown",
   "metadata": {},
   "source": [
    "## Training "
   ]
  },
  {
   "cell_type": "markdown",
   "metadata": {},
   "source": [
    "### Merge classes training\n"
   ]
  },
  {
   "cell_type": "code",
   "execution_count": 7,
   "metadata": {},
   "outputs": [],
   "source": [
    "# Define a mapping of old classes to new merged classes\n",
    "class_mapping = {\n",
    "    0: 'Buildings',      # Chimney -> Buildings\n",
    "    1: 'Terrain',        # Low vegetation -> Terrain\n",
    "    2: 'Terrain',        # Impervious surfaces -> Terrain\n",
    "    3: 'Cars',           # Car -> Cars\n",
    "    4: 'Fence',      # Fence/Hedge -> Buildings\n",
    "    5: 'Buildings',      # Building -> Buildings\n",
    "    6: 'Terrain',        # Water -> Terrain\n",
    "    7: 'Terrain',        # Farm/Soil -> Terrain\n",
    "    8: 'Trees',          # Tree -> Trees\n",
    "}\n"
   ]
  },
  {
   "cell_type": "code",
   "execution_count": 9,
   "metadata": {},
   "outputs": [
    {
     "ename": "NameError",
     "evalue": "name 'df' is not defined",
     "output_type": "error",
     "traceback": [
      "\u001b[0;31m---------------------------------------------------------------------------\u001b[0m",
      "\u001b[0;31mNameError\u001b[0m                                 Traceback (most recent call last)",
      "Cell \u001b[0;32mIn[9], line 1\u001b[0m\n\u001b[0;32m----> 1\u001b[0m \u001b[43mdf\u001b[49m\u001b[38;5;241m.\u001b[39mhead()\n",
      "\u001b[0;31mNameError\u001b[0m: name 'df' is not defined"
     ]
    }
   ],
   "source": [
    "df.head()"
   ]
  },
  {
   "cell_type": "code",
   "execution_count": 10,
   "metadata": {},
   "outputs": [
    {
     "name": "stdout",
     "output_type": "stream",
     "text": [
      "Printed head of features_df after adding new_classification:\n",
      "   level_0  level_1  level_2  linearity  planarity  scattering  omnivariance  \\\n",
      "0      114       59       11   0.467540   0.359354    0.173107      0.814931   \n",
      "1       38       53        4   0.929432   0.069575    0.000993      0.014319   \n",
      "2       36       46        4   0.022983   0.967429    0.009588      0.281591   \n",
      "3        1       56        4   0.365127   0.563641    0.071232      0.592310   \n",
      "4       76       25        5   0.249793   0.538930    0.211276      0.676573   \n",
      "\n",
      "   sum_of_eigenvalues  anisotropy  eigenentropy  change_of_curvature  \\\n",
      "0            3.076964    0.826893     -0.662416             0.101495   \n",
      "1            0.372132    0.999007      0.460933             0.000927   \n",
      "2            2.653727    0.990412     -0.678490             0.004826   \n",
      "3            2.836403    0.928768     -0.649424             0.041751   \n",
      "4            2.452198    0.788724      0.132637             0.107713   \n",
      "\n",
      "   residual  classification  processed new_classification  \n",
      "0  1.339561               8       True              Trees  \n",
      "1  0.576352               7       True            Terrain  \n",
      "2  1.158797               7       True            Terrain  \n",
      "3  1.215640               5       True          Buildings  \n",
      "4  1.118329               8       True              Trees  \n",
      "\n",
      "Value counts in 'new_classification':\n",
      "new_classification\n",
      "Terrain      8017\n",
      "Trees        7582\n",
      "Buildings     263\n",
      "Fence          35\n",
      "Cars            5\n",
      "Name: count, dtype: int64\n",
      "\n",
      "Number of NaN values in new_classification: 14\n",
      "\n",
      "Number of voxels dropped due to NaN in new_classification: 14\n",
      "Percentage of voxels dropped: 0.09%\n",
      "\n",
      "Final value counts in 'new_classification' after dropping NaN:\n",
      "new_classification\n",
      "Terrain      8017\n",
      "Trees        7582\n",
      "Buildings     263\n",
      "Fence          35\n",
      "Cars            5\n",
      "Name: count, dtype: int64\n"
     ]
    }
   ],
   "source": [
    "## 1. Transforming class to new class\n",
    "features_df['new_classification'] = features_df['classification'].map(class_mapping)\n",
    "print(f\"Printed head of features_df after adding new_classification:\\n{features_df.head()}\")\n",
    "\n",
    "## 2. Checking the transforming data\n",
    "class_counts = features_df['new_classification'].value_counts()\n",
    "print(f\"\\nValue counts in 'new_classification':\\n{class_counts}\")\n",
    "\n",
    "# Check if any 'new_classification' values are missing\n",
    "nan_count = features_df['new_classification'].isna().sum()\n",
    "print(f\"\\nNumber of NaN values in new_classification: {nan_count}\")\n",
    "\n",
    "# Drop voxels with NaN in new_classification\n",
    "original_count = len(features_df)\n",
    "features_df = features_df.dropna(subset=['new_classification'])\n",
    "new_count = len(features_df)\n",
    "dropped_count = original_count - new_count\n",
    "\n",
    "print(f\"\\nNumber of voxels dropped due to NaN in new_classification: {dropped_count}\")\n",
    "print(f\"Percentage of voxels dropped: {(dropped_count / original_count) * 100:.2f}%\")\n",
    "\n",
    "# Final check after dropping NaN values\n",
    "final_class_counts = features_df['new_classification'].value_counts()\n",
    "print(f\"\\nFinal value counts in 'new_classification' after dropping NaN:\\n{final_class_counts}\")"
   ]
  },
  {
   "cell_type": "code",
   "execution_count": 75,
   "metadata": {},
   "outputs": [
    {
     "name": "stdout",
     "output_type": "stream",
     "text": [
      "The DataFrame must include 'level_0', 'level_1', 'level_2', and 'predicted_class' columns.\n"
     ]
    }
   ],
   "source": [
    "# Define the color mapping for each class\n",
    "class_colors = {\n",
    "    'Buildings': [1, 0, 0],  # Red\n",
    "    'Terrain': [0, 1, 0],    # Green\n",
    "    'Trees': [0, 0, 1],      # Blue\n",
    "    'Cars': [1, 1, 0],       # Yellow\n",
    "    'Fence': [1, 0, 1],      # Magenta\n",
    "}\n",
    "# Ensure the DataFrame contains the required columns\n",
    "if {'level_0', 'level_1', 'level_2', 'new_classification'}.issubset(features_df.columns):\n",
    "    # Extract voxel positions and predicted classes\n",
    "    voxel_positions = features_df[['level_0', 'level_1', 'level_2']].values\n",
    "    new_classification = features_df['new_classification'].values\n",
    "\n",
    "    # Prepare points and colors for visualization\n",
    "    points = []\n",
    "    colors = []\n",
    "\n",
    "    for pos, pred_class in zip(voxel_positions, new_classification):\n",
    "        points.append(pos)\n",
    "        # Assign color based on predicted class\n",
    "        color = class_colors.get(pred_class, [0.5, 0.5, 0.5])  # Default to gray if class is unknown\n",
    "        colors.append(color)\n",
    "\n",
    "    # Create a PointCloud object for visualization\n",
    "    pcd = o3d.geometry.PointCloud()\n",
    "    pcd.points = o3d.utility.Vector3dVector(points)\n",
    "    pcd.colors = o3d.utility.Vector3dVector(colors)\n",
    "    \n",
    "    # Save the visualized point cloud\n",
    "    output_path = \"/Users/Rebekka/GiHub/3dFinalProject/results/voxel_coloring.ply\"\n",
    "    o3d.io.write_point_cloud(output_path, pcd)\n",
    "    print(f\"Voxel visualization saved to: {output_path}\")\n",
    "\n",
    "    # Visualize the voxels with predicted class colors\n",
    "    o3d.visualization.draw_geometries([pcd], window_name=\"Voxel Prediction Visualization\", width=800, height=600)\n",
    "\n",
    "    \n",
    "else:\n",
    "    print(\"The DataFrame must include 'level_0', 'level_1', 'level_2', and 'predicted_class' columns.\")\n",
    "\n"
   ]
  },
  {
   "cell_type": "code",
   "execution_count": 74,
   "metadata": {},
   "outputs": [
    {
     "ename": "KeyError",
     "evalue": "'level_0'",
     "output_type": "error",
     "traceback": [
      "\u001b[0;31m---------------------------------------------------------------------------\u001b[0m",
      "\u001b[0;31mKeyError\u001b[0m                                  Traceback (most recent call last)",
      "File \u001b[0;32m~/miniconda3/envs/minimal_env/lib/python3.10/site-packages/pandas/core/indexes/base.py:3805\u001b[0m, in \u001b[0;36mIndex.get_loc\u001b[0;34m(self, key)\u001b[0m\n\u001b[1;32m   3804\u001b[0m \u001b[38;5;28;01mtry\u001b[39;00m:\n\u001b[0;32m-> 3805\u001b[0m     \u001b[38;5;28;01mreturn\u001b[39;00m \u001b[38;5;28;43mself\u001b[39;49m\u001b[38;5;241;43m.\u001b[39;49m\u001b[43m_engine\u001b[49m\u001b[38;5;241;43m.\u001b[39;49m\u001b[43mget_loc\u001b[49m\u001b[43m(\u001b[49m\u001b[43mcasted_key\u001b[49m\u001b[43m)\u001b[49m\n\u001b[1;32m   3806\u001b[0m \u001b[38;5;28;01mexcept\u001b[39;00m \u001b[38;5;167;01mKeyError\u001b[39;00m \u001b[38;5;28;01mas\u001b[39;00m err:\n",
      "File \u001b[0;32mindex.pyx:167\u001b[0m, in \u001b[0;36mpandas._libs.index.IndexEngine.get_loc\u001b[0;34m()\u001b[0m\n",
      "File \u001b[0;32mindex.pyx:196\u001b[0m, in \u001b[0;36mpandas._libs.index.IndexEngine.get_loc\u001b[0;34m()\u001b[0m\n",
      "File \u001b[0;32mpandas/_libs/hashtable_class_helper.pxi:7081\u001b[0m, in \u001b[0;36mpandas._libs.hashtable.PyObjectHashTable.get_item\u001b[0;34m()\u001b[0m\n",
      "File \u001b[0;32mpandas/_libs/hashtable_class_helper.pxi:7089\u001b[0m, in \u001b[0;36mpandas._libs.hashtable.PyObjectHashTable.get_item\u001b[0;34m()\u001b[0m\n",
      "\u001b[0;31mKeyError\u001b[0m: 'level_0'",
      "\nThe above exception was the direct cause of the following exception:\n",
      "\u001b[0;31mKeyError\u001b[0m                                  Traceback (most recent call last)",
      "Cell \u001b[0;32mIn[74], line 5\u001b[0m\n\u001b[1;32m      2\u001b[0m \u001b[38;5;28;01mfrom\u001b[39;00m \u001b[38;5;21;01msklearn\u001b[39;00m\u001b[38;5;21;01m.\u001b[39;00m\u001b[38;5;21;01mensemble\u001b[39;00m \u001b[38;5;28;01mimport\u001b[39;00m RandomForestClassifier\n\u001b[1;32m      4\u001b[0m \u001b[38;5;66;03m# Assuming features_df contains 'level_0' (x), 'level_1' (y), and 'new_classification'\u001b[39;00m\n\u001b[0;32m----> 5\u001b[0m x_min \u001b[38;5;241m=\u001b[39m \u001b[43mfeatures_df\u001b[49m\u001b[43m[\u001b[49m\u001b[38;5;124;43m'\u001b[39;49m\u001b[38;5;124;43mlevel_0\u001b[39;49m\u001b[38;5;124;43m'\u001b[39;49m\u001b[43m]\u001b[49m\u001b[38;5;241m.\u001b[39mmin()\n\u001b[1;32m      6\u001b[0m x_max \u001b[38;5;241m=\u001b[39m features_df[\u001b[38;5;124m'\u001b[39m\u001b[38;5;124mlevel_0\u001b[39m\u001b[38;5;124m'\u001b[39m]\u001b[38;5;241m.\u001b[39mmax()\n\u001b[1;32m      8\u001b[0m \u001b[38;5;66;03m# Define split threshold as 20% of the horizontal range\u001b[39;00m\n",
      "File \u001b[0;32m~/miniconda3/envs/minimal_env/lib/python3.10/site-packages/pandas/core/frame.py:4102\u001b[0m, in \u001b[0;36mDataFrame.__getitem__\u001b[0;34m(self, key)\u001b[0m\n\u001b[1;32m   4100\u001b[0m \u001b[38;5;28;01mif\u001b[39;00m \u001b[38;5;28mself\u001b[39m\u001b[38;5;241m.\u001b[39mcolumns\u001b[38;5;241m.\u001b[39mnlevels \u001b[38;5;241m>\u001b[39m \u001b[38;5;241m1\u001b[39m:\n\u001b[1;32m   4101\u001b[0m     \u001b[38;5;28;01mreturn\u001b[39;00m \u001b[38;5;28mself\u001b[39m\u001b[38;5;241m.\u001b[39m_getitem_multilevel(key)\n\u001b[0;32m-> 4102\u001b[0m indexer \u001b[38;5;241m=\u001b[39m \u001b[38;5;28;43mself\u001b[39;49m\u001b[38;5;241;43m.\u001b[39;49m\u001b[43mcolumns\u001b[49m\u001b[38;5;241;43m.\u001b[39;49m\u001b[43mget_loc\u001b[49m\u001b[43m(\u001b[49m\u001b[43mkey\u001b[49m\u001b[43m)\u001b[49m\n\u001b[1;32m   4103\u001b[0m \u001b[38;5;28;01mif\u001b[39;00m is_integer(indexer):\n\u001b[1;32m   4104\u001b[0m     indexer \u001b[38;5;241m=\u001b[39m [indexer]\n",
      "File \u001b[0;32m~/miniconda3/envs/minimal_env/lib/python3.10/site-packages/pandas/core/indexes/base.py:3812\u001b[0m, in \u001b[0;36mIndex.get_loc\u001b[0;34m(self, key)\u001b[0m\n\u001b[1;32m   3807\u001b[0m     \u001b[38;5;28;01mif\u001b[39;00m \u001b[38;5;28misinstance\u001b[39m(casted_key, \u001b[38;5;28mslice\u001b[39m) \u001b[38;5;129;01mor\u001b[39;00m (\n\u001b[1;32m   3808\u001b[0m         \u001b[38;5;28misinstance\u001b[39m(casted_key, abc\u001b[38;5;241m.\u001b[39mIterable)\n\u001b[1;32m   3809\u001b[0m         \u001b[38;5;129;01mand\u001b[39;00m \u001b[38;5;28many\u001b[39m(\u001b[38;5;28misinstance\u001b[39m(x, \u001b[38;5;28mslice\u001b[39m) \u001b[38;5;28;01mfor\u001b[39;00m x \u001b[38;5;129;01min\u001b[39;00m casted_key)\n\u001b[1;32m   3810\u001b[0m     ):\n\u001b[1;32m   3811\u001b[0m         \u001b[38;5;28;01mraise\u001b[39;00m InvalidIndexError(key)\n\u001b[0;32m-> 3812\u001b[0m     \u001b[38;5;28;01mraise\u001b[39;00m \u001b[38;5;167;01mKeyError\u001b[39;00m(key) \u001b[38;5;28;01mfrom\u001b[39;00m \u001b[38;5;21;01merr\u001b[39;00m\n\u001b[1;32m   3813\u001b[0m \u001b[38;5;28;01mexcept\u001b[39;00m \u001b[38;5;167;01mTypeError\u001b[39;00m:\n\u001b[1;32m   3814\u001b[0m     \u001b[38;5;66;03m# If we have a listlike key, _check_indexing_error will raise\u001b[39;00m\n\u001b[1;32m   3815\u001b[0m     \u001b[38;5;66;03m#  InvalidIndexError. Otherwise we fall through and re-raise\u001b[39;00m\n\u001b[1;32m   3816\u001b[0m     \u001b[38;5;66;03m#  the TypeError.\u001b[39;00m\n\u001b[1;32m   3817\u001b[0m     \u001b[38;5;28mself\u001b[39m\u001b[38;5;241m.\u001b[39m_check_indexing_error(key)\n",
      "\u001b[0;31mKeyError\u001b[0m: 'level_0'"
     ]
    }
   ],
   "source": [
    "import matplotlib.pyplot as plt\n",
    "from sklearn.ensemble import RandomForestClassifier\n",
    "\n",
    "# Assuming features_df contains 'level_0' (x), 'level_1' (y), and 'new_classification'\n",
    "x_min = features_df['level_0'].min()\n",
    "x_max = features_df['level_0'].max()\n",
    "\n",
    "# Define split threshold as 20% of the horizontal range\n",
    "split_threshold = x_min + 0.18 * (x_max - x_min)\n",
    "\n",
    "# Create masks for train and test data based on geographical X-coordinate\n",
    "test_mask = features_df['level_0'] <= split_threshold\n",
    "train_mask = ~test_mask\n",
    "\n",
    "# Split the features and labels\n",
    "X_train = features_df[train_mask].drop(columns=['new_classification'])\n",
    "X_test = features_df[test_mask].drop(columns=['new_classification'])\n",
    "y_train = features_df[train_mask]['new_classification']\n",
    "y_test = features_df[test_mask]['new_classification']\n",
    "\n",
    "# Verify the split\n",
    "print(f\"Training set size: {X_train.shape[0]}\")\n",
    "print(f\"Test set size: {X_test.shape[0]}\")\n",
    "\n",
    "# Train the classifier\n",
    "clf = RandomForestClassifier(n_estimators=100, random_state=42, class_weight='balanced')\n",
    "clf.fit(X_train, y_train)\n",
    "#prints\n",
    "class_counts=features_df['new_classification'].value_counts()\n",
    "print(f\"Value counts in 'new_classification':\\n{class_counts}\")\n",
    "\n",
    "print(\"\\n Unique classes in the test set:\", y_test.value_counts())\n",
    "print(\"\\n Unique classes in the training set:\", y_train.value_counts())\n",
    "\n",
    "# Plot the train-test split\n",
    "plt.figure(figsize=(10, 6))\n",
    "plt.scatter(features_df.loc[train_mask, 'level_0'], features_df.loc[train_mask, 'level_1'], \n",
    "            c='blue', label='Train Set', s=10, alpha=0.5)\n",
    "plt.scatter(features_df.loc[test_mask, 'level_0'], features_df.loc[test_mask, 'level_1'], \n",
    "            c='orange', label='Test Set', s=10, alpha=0.5)\n",
    "plt.axvline(split_threshold, color='red', linestyle='--', label='Split Threshold')\n",
    "plt.xlabel('Level_0 (X-coordinate)')\n",
    "plt.ylabel('Level_1 (Y-coordinate)')\n",
    "plt.title('Geographical Train-Test Split')\n",
    "plt.legend()\n",
    "plt.grid()\n",
    "plt.show()\n"
   ]
  },
  {
   "cell_type": "code",
   "execution_count": 32,
   "metadata": {},
   "outputs": [
    {
     "name": "stdout",
     "output_type": "stream",
     "text": [
      "The features_df DataFrame has been saved to 'features_df.csv'\n"
     ]
    }
   ],
   "source": [
    "# Specify the output file path\n",
    "output_file = \"features_df.csv\"\n",
    "\n",
    "# Save the features_df DataFrame to a CSV file\n",
    "features_df.to_csv(output_file, index=False)\n",
    "\n",
    "print(f\"The features_df DataFrame has been saved to '{output_file}'\")"
   ]
  },
  {
   "cell_type": "code",
   "execution_count": 33,
   "metadata": {},
   "outputs": [
    {
     "name": "stdout",
     "output_type": "stream",
     "text": [
      "Classification Report:\n",
      "              precision    recall  f1-score   support\n",
      "\n",
      "   Buildings       0.32      0.21      0.26       108\n",
      "        Cars       0.00      0.00      0.00         2\n",
      "       Fence       0.00      0.00      0.00        35\n",
      "     Terrain       0.90      0.88      0.89      1644\n",
      "       Trees       0.75      0.84      0.79       902\n",
      "\n",
      "    accuracy                           0.83      2691\n",
      "   macro avg       0.39      0.39      0.39      2691\n",
      "weighted avg       0.81      0.83      0.82      2691\n",
      "\n"
     ]
    },
    {
     "name": "stderr",
     "output_type": "stream",
     "text": [
      "/Users/Rebekka/miniconda3/envs/minimal_env/lib/python3.10/site-packages/sklearn/metrics/_classification.py:1531: UndefinedMetricWarning: Precision is ill-defined and being set to 0.0 in labels with no predicted samples. Use `zero_division` parameter to control this behavior.\n",
      "  _warn_prf(average, modifier, f\"{metric.capitalize()} is\", len(result))\n",
      "/Users/Rebekka/miniconda3/envs/minimal_env/lib/python3.10/site-packages/sklearn/metrics/_classification.py:1531: UndefinedMetricWarning: Precision is ill-defined and being set to 0.0 in labels with no predicted samples. Use `zero_division` parameter to control this behavior.\n",
      "  _warn_prf(average, modifier, f\"{metric.capitalize()} is\", len(result))\n",
      "/Users/Rebekka/miniconda3/envs/minimal_env/lib/python3.10/site-packages/sklearn/metrics/_classification.py:1531: UndefinedMetricWarning: Precision is ill-defined and being set to 0.0 in labels with no predicted samples. Use `zero_division` parameter to control this behavior.\n",
      "  _warn_prf(average, modifier, f\"{metric.capitalize()} is\", len(result))\n"
     ]
    }
   ],
   "source": [
    "# Evaluate the model\n",
    "y_pred = clf.predict(X_test)\n",
    "\n",
    "# Print classification report\n",
    "print(\"Classification Report:\")\n",
    "print(classification_report(y_test, y_pred))"
   ]
  },
  {
   "cell_type": "code",
   "execution_count": 35,
   "metadata": {},
   "outputs": [
    {
     "name": "stdout",
     "output_type": "stream",
     "text": [
      "    level_0  level_1  level_2  linearity  planarity  scattering  omnivariance  \\\n",
      "3         1       56        4   0.365127   0.563641    0.071232      0.592310   \n",
      "8         9        4        3   0.561429   0.435971    0.002600      0.045781   \n",
      "15       11        5        6   0.646597   0.140016    0.213387      0.469900   \n",
      "19        7       17        4   0.016307   0.981891    0.001802      0.163348   \n",
      "25        7       19        4   0.023269   0.962434    0.014297      0.322564   \n",
      "\n",
      "    sum_of_eigenvalues  anisotropy  eigenentropy  change_of_curvature  \\\n",
      "3             2.836403    0.928768     -0.649424             0.041751   \n",
      "8             0.631532    0.997400      0.686241             0.001804   \n",
      "15            1.742625    0.786613      0.590091             0.136194   \n",
      "19            2.679614    0.998198     -0.766162             0.000908   \n",
      "25            2.666965    0.985703     -0.667376             0.007181   \n",
      "\n",
      "    residual  processed true_class predicted_class  \n",
      "3   1.215640       True  Buildings           Trees  \n",
      "8   0.648633       True      Trees         Terrain  \n",
      "15  1.052391       True      Trees           Trees  \n",
      "19  1.160486       True    Terrain         Terrain  \n",
      "25  1.158508       True    Terrain         Terrain  \n"
     ]
    }
   ],
   "source": [
    "test_results_df = X_test.copy()\n",
    "\n",
    "# Add the ground truth labels\n",
    "test_results_df['true_class'] = y_test.values\n",
    "\n",
    "# Add the predicted classes\n",
    "test_results_df['predicted_class'] = y_pred\n",
    "\n",
    "# Print a preview of the results\n",
    "print(test_results_df.head())"
   ]
  },
  {
   "cell_type": "markdown",
   "metadata": {},
   "source": [
    "### vis\n"
   ]
  },
  {
   "cell_type": "code",
   "execution_count": 70,
   "metadata": {},
   "outputs": [
    {
     "name": "stdout",
     "output_type": "stream",
     "text": [
      "Voxel visualization saved to: /Users/Rebekka/GiHub/3dFinalProject/results/detailed_correct_vs_incorrect_voxels.ply\n",
      "\u001b[1;33m[Open3D WARNING] GLFW Error: Cocoa: Failed to find service port for display\u001b[0;m\n"
     ]
    },
    {
     "ename": "KeyboardInterrupt",
     "evalue": "",
     "output_type": "error",
     "traceback": [
      "\u001b[0;31m---------------------------------------------------------------------------\u001b[0m",
      "\u001b[0;31mKeyboardInterrupt\u001b[0m                         Traceback (most recent call last)",
      "Cell \u001b[0;32mIn[70], line 57\u001b[0m\n\u001b[1;32m     54\u001b[0m     \u001b[38;5;28mprint\u001b[39m(\u001b[38;5;124mf\u001b[39m\u001b[38;5;124m\"\u001b[39m\u001b[38;5;124mVoxel visualization saved to: \u001b[39m\u001b[38;5;132;01m{\u001b[39;00moutput_path\u001b[38;5;132;01m}\u001b[39;00m\u001b[38;5;124m\"\u001b[39m)\n\u001b[1;32m     56\u001b[0m     \u001b[38;5;66;03m# Visualize the voxels with detailed correct/incorrect colors\u001b[39;00m\n\u001b[0;32m---> 57\u001b[0m     \u001b[43mo3d\u001b[49m\u001b[38;5;241;43m.\u001b[39;49m\u001b[43mvisualization\u001b[49m\u001b[38;5;241;43m.\u001b[39;49m\u001b[43mdraw_geometries\u001b[49m\u001b[43m(\u001b[49m\u001b[43m[\u001b[49m\u001b[43mpcd\u001b[49m\u001b[43m]\u001b[49m\u001b[43m,\u001b[49m\u001b[43m \u001b[49m\u001b[43mwindow_name\u001b[49m\u001b[38;5;241;43m=\u001b[39;49m\u001b[38;5;124;43m\"\u001b[39;49m\u001b[38;5;124;43mDetailed Voxel Prediction Accuracy Visualization\u001b[39;49m\u001b[38;5;124;43m\"\u001b[39;49m\u001b[43m,\u001b[49m\u001b[43m \u001b[49m\u001b[43mwidth\u001b[49m\u001b[38;5;241;43m=\u001b[39;49m\u001b[38;5;241;43m800\u001b[39;49m\u001b[43m,\u001b[49m\u001b[43m \u001b[49m\u001b[43mheight\u001b[49m\u001b[38;5;241;43m=\u001b[39;49m\u001b[38;5;241;43m600\u001b[39;49m\u001b[43m)\u001b[49m\n\u001b[1;32m     58\u001b[0m \u001b[38;5;28;01melse\u001b[39;00m:\n\u001b[1;32m     59\u001b[0m     \u001b[38;5;28mprint\u001b[39m(\u001b[38;5;124m\"\u001b[39m\u001b[38;5;124mThe DataFrame must include \u001b[39m\u001b[38;5;124m'\u001b[39m\u001b[38;5;124mlevel_0\u001b[39m\u001b[38;5;124m'\u001b[39m\u001b[38;5;124m, \u001b[39m\u001b[38;5;124m'\u001b[39m\u001b[38;5;124mlevel_1\u001b[39m\u001b[38;5;124m'\u001b[39m\u001b[38;5;124m, \u001b[39m\u001b[38;5;124m'\u001b[39m\u001b[38;5;124mlevel_2\u001b[39m\u001b[38;5;124m'\u001b[39m\u001b[38;5;124m, \u001b[39m\u001b[38;5;124m'\u001b[39m\u001b[38;5;124mpredicted_class\u001b[39m\u001b[38;5;124m'\u001b[39m\u001b[38;5;124m, and \u001b[39m\u001b[38;5;124m'\u001b[39m\u001b[38;5;124mtrue_class\u001b[39m\u001b[38;5;124m'\u001b[39m\u001b[38;5;124m columns.\u001b[39m\u001b[38;5;124m\"\u001b[39m)\n",
      "\u001b[0;31mKeyboardInterrupt\u001b[0m: "
     ]
    }
   ],
   "source": [
    "import open3d as o3d\n",
    "import numpy as np\n",
    "\n",
    "\n",
    "import open3d as o3d\n",
    "import numpy as np\n",
    "\n",
    "# Define the color mapping for classes\n",
    "class_colors = {\n",
    "    'Buildings_correct': [1, 0.5, 0.5],   # Light Red for correct Buildings\n",
    "    'Buildings_incorrect': [0.5, 0, 0],   # Dark Red for incorrect Buildings\n",
    "    'Terrain_correct': [0.5, 1, 0.5],     # Light Green for correct Terrain\n",
    "    'Terrain_incorrect': [0, 0.5, 0],     # Dark Green for incorrect Terrain\n",
    "    'Trees_correct': [0.5, 0.5, 1],       # Light Blue for correct Trees\n",
    "    'Trees_incorrect': [0, 0, 0.5],       # Dark Blue for incorrect Trees\n",
    "    'Cars_correct': [1, 1, 0.5],          # Light Yellow for correct Cars\n",
    "    'Cars_incorrect': [0.5, 0.5, 0],      # Dark Yellow for incorrect Cars\n",
    "    'Fence_correct': [1, 0.5, 1],         # Light Magenta for correct Fence\n",
    "    'Fence_incorrect': [0.5, 0, 0.5],     # Dark Magenta for incorrect Fence\n",
    "}\n",
    "\n",
    "# Ensure the DataFrame contains required columns\n",
    "if {'level_0', 'level_1', 'level_2', 'predicted_class', 'true_class'}.issubset(test_results_df.columns):\n",
    "    # Extract voxel positions, predicted classes, and true classes\n",
    "    voxel_positions = test_results_df[['level_0', 'level_1', 'level_2']].values\n",
    "    predicted_classes = test_results_df['predicted_class'].values\n",
    "    true_classes = test_results_df['true_class'].values\n",
    "\n",
    "    # Prepare points and colors for visualization\n",
    "    points = []\n",
    "    colors = []\n",
    "\n",
    "    for pos, pred_class, true_class in zip(voxel_positions, predicted_classes, true_classes):\n",
    "        points.append(pos)  # Add voxel center\n",
    "        if pred_class == true_class:\n",
    "            key = f\"{true_class}_correct\"  # Correct prediction color\n",
    "        else:\n",
    "            key = f\"{true_class}_incorrect\"  # Incorrect prediction color\n",
    "        color = class_colors.get(key, [0.5, 0.5, 0.5])  # Default to gray if class is unknown\n",
    "        colors.append(color)\n",
    "\n",
    "    # Convert to numpy arrays\n",
    "    points = np.array(points)\n",
    "    colors = np.array(colors)\n",
    "\n",
    "    # Create a PointCloud object for visualization\n",
    "    pcd = o3d.geometry.PointCloud()\n",
    "    pcd.points = o3d.utility.Vector3dVector(points)\n",
    "    pcd.colors = o3d.utility.Vector3dVector(colors)\n",
    "    \n",
    "    # Save the visualized point cloud\n",
    "    output_path = \"/Users/Rebekka/GiHub/3dFinalProject/results/detailed_correct_vs_incorrect_voxels.ply\"\n",
    "    o3d.io.write_point_cloud(output_path, pcd)\n",
    "    print(f\"Voxel visualization saved to: {output_path}\")\n",
    "\n",
    "    # Visualize the voxels with detailed correct/incorrect colors\n",
    "    o3d.visualization.draw_geometries([pcd], window_name=\"Detailed Voxel Prediction Accuracy Visualization\", width=800, height=600)\n",
    "else:\n",
    "    print(\"The DataFrame must include 'level_0', 'level_1', 'level_2', 'predicted_class', and 'true_class' columns.\")\n"
   ]
  },
  {
   "cell_type": "code",
   "execution_count": 73,
   "metadata": {},
   "outputs": [
    {
     "name": "stdout",
     "output_type": "stream",
     "text": [
      "\n",
      "Precision and Recall for each class:\n",
      "Buildings: Precision = 1.00, Recall = 0.20\n",
      "Trees: Precision = 0.65, Recall = 0.85\n",
      "Terrain: Precision = 0.63, Recall = 0.95\n",
      "\n",
      "Misclassified samples:\n",
      "True Class: Buildings, Predicted Class: Trees\n",
      "True Class: Buildings, Predicted Class: Trees\n",
      "True Class: Buildings, Predicted Class: Terrain\n",
      "True Class: Buildings, Predicted Class: Terrain\n",
      "True Class: Trees, Predicted Class: Terrain\n",
      "True Class: Trees, Predicted Class: Terrain\n",
      "True Class: Buildings, Predicted Class: Trees\n",
      "True Class: Buildings, Predicted Class: Terrain\n",
      "True Class: Buildings, Predicted Class: Terrain\n",
      "True Class: Buildings, Predicted Class: Trees\n",
      "True Class: Buildings, Predicted Class: Terrain\n",
      "True Class: Buildings, Predicted Class: Trees\n",
      "True Class: Buildings, Predicted Class: Terrain\n",
      "True Class: Trees, Predicted Class: Terrain\n",
      "True Class: Buildings, Predicted Class: Trees\n",
      "True Class: Buildings, Predicted Class: Trees\n",
      "True Class: Buildings, Predicted Class: Terrain\n",
      "True Class: Terrain, Predicted Class: Trees\n",
      "True Class: Buildings, Predicted Class: Trees\n",
      "True Class: Buildings, Predicted Class: Terrain\n"
     ]
    },
    {
     "data": {
      "image/png": "[encoded data removed]",
      "text/plain": [
       "<Figure size 800x800 with 2 Axes>"
      ]
     },
     "metadata": {},
     "output_type": "display_data"
    }
   ],
   "source": [
    "from sklearn.metrics import confusion_matrix, ConfusionMatrixDisplay, precision_score, recall_score\n",
    "\n",
    "# Step 5: Subset 20 Buildings, 20 Trees, and 20 Terrain\n",
    "buildings_indices = y_test[y_test == 'Buildings'].sample(n=20, random_state=42).index\n",
    "trees_indices = y_test[y_test == 'Trees'].sample(n=20, random_state=42).index\n",
    "terrain_indices = y_test[y_test == 'Terrain'].sample(n=20, random_state=42).index\n",
    "\n",
    "subset_indices = buildings_indices.union(trees_indices).union(terrain_indices)\n",
    "test_subset = y_test.loc[subset_indices]\n",
    "pred_subset = pd.Series(y_pred, index=y_test.index).loc[subset_indices]\n",
    "\n",
    "# Step 6: Confusion matrix calculation\n",
    "conf_matrix = confusion_matrix(test_subset, pred_subset, labels=['Buildings', 'Trees', 'Terrain'])\n",
    "\n",
    "# Calculate precision and recall for each class\n",
    "precision = precision_score(test_subset, pred_subset, labels=['Buildings', 'Trees', 'Terrain'], average=None)\n",
    "recall = recall_score(test_subset, pred_subset, labels=['Buildings', 'Trees', 'Terrain'], average=None)\n",
    "\n",
    "# Display precision and recall\n",
    "print(\"\\nPrecision and Recall for each class:\")\n",
    "classes = ['Buildings', 'Trees', 'Terrain']\n",
    "for i, cls in enumerate(classes):\n",
    "    print(f\"{cls}: Precision = {precision[i]:.2f}, Recall = {recall[i]:.2f}\")\n",
    "\n",
    "# Step 7: Print misclassifications\n",
    "misclassified = test_subset[test_subset != pred_subset]\n",
    "if not misclassified.empty:\n",
    "    print(\"\\nMisclassified samples:\")\n",
    "    for idx in misclassified.index:\n",
    "        print(f\"True Class: {test_subset[idx]}, Predicted Class: {pred_subset[idx]}\")\n",
    "\n",
    "# Step 8: Visualize the confusion matrix\n",
    "fig, ax = plt.subplots(figsize=(8, 8))\n",
    "disp = ConfusionMatrixDisplay(confusion_matrix=conf_matrix, display_labels=['Buildings', 'Trees', 'Terrain'])\n",
    "disp.plot(ax=ax, cmap=\"Blues\", values_format='d')\n",
    "plt.title(\"Confusion Matrix: 20 Buildings, 20 Trees, and 20 Terrain\")\n",
    "plt.show()\n",
    "\n"
   ]
  },
  {
   "cell_type": "code",
   "execution_count": 181,
   "metadata": {},
   "outputs": [
    {
     "data": {
      "image/png": "[encoded data removed]",
      "text/plain": [
       "<Figure size 1000x700 with 2 Axes>"
      ]
     },
     "metadata": {},
     "output_type": "display_data"
    }
   ],
   "source": [
    "from sklearn.metrics import confusion_matrix\n",
    "import seaborn as sns\n",
    "import matplotlib.pyplot as plt\n",
    "\n",
    "# Confusion matrix\n",
    "cm = confusion_matrix(y_test, y_pred, labels=clf.classes_)\n",
    "\n",
    "# Plot the confusion matrix\n",
    "plt.figure(figsize=(10, 7))\n",
    "sns.heatmap(cm, annot=True, fmt='d', cmap='Blues', xticklabels=clf.classes_, yticklabels=clf.classes_)\n",
    "plt.ylabel('Actual')\n",
    "plt.xlabel('Predicted')\n",
    "plt.title('Confusion Matrix')\n",
    "plt.show()\n"
   ]
  },
  {
   "cell_type": "markdown",
   "metadata": {},
   "source": [
    "## Visualising result"
   ]
  },
  {
   "cell_type": "code",
   "execution_count": 226,
   "metadata": {},
   "outputs": [
    {
     "name": "stdout",
     "output_type": "stream",
     "text": [
      "The DataFrame must include 'x', 'y', 'z', and 'predicted_class' columns.\n"
     ]
    }
   ],
   "source": [
    "import open3d as o3d\n",
    "import numpy as np\n",
    "\n",
    "# Define the color mapping for each class\n",
    "class_colors = {\n",
    "    1: [1, 0, 0],    # Red\n",
    "    8: [0, 1, 0],    # Green\n",
    "    2: [0, 0, 1],    # Blue\n",
    "    7: [1, 1, 0],    # Yellow\n",
    "    5: [1, 0, 1],    # Magenta\n",
    "    4: [0, 1, 1],    # Cyan\n",
    "}\n",
    "\n",
    "# Ensure the DataFrame contains the required columns\n",
    "if {'x', 'y', 'z', 'predicted_class'}.issubset(test_results_df.columns):\n",
    "    # Extract voxel positions and predicted classes\n",
    "    voxel_positions = test_results_df[['x', 'y', 'z']].values\n",
    "    predicted_classes = test_results_df['predicted_class'].values\n",
    "\n",
    "    # Create a list to hold voxel geometries\n",
    "    voxel_geometries = []\n",
    "\n",
    "    # Iterate over each voxel and create a voxel geometry with the corresponding color\n",
    "    for pos, pred_class in zip(voxel_positions, predicted_classes):\n",
    "        voxel = o3d.geometry.VoxelGrid.create_from_points(\n",
    "            o3d.utility.Vector3dVector([pos]), voxel_size=6\n",
    "        )\n",
    "        if pred_class in class_colors:\n",
    "            color = class_colors[pred_class]\n",
    "        else:\n",
    "            color = [0.5, 0.5, 0.5]  # Default color for unknown classes\n",
    "\n",
    "        # Set the voxel color\n",
    "        voxel.colors = o3d.utility.Vector3dVector([color])\n",
    "        voxel_geometries.append(voxel)\n",
    "\n",
    "    # Combine all voxel geometries\n",
    "    voxel_grid = o3d.geometry.VoxelGrid()\n",
    "    for voxel in voxel_geometries:\n",
    "        voxel_grid += voxel\n",
    "\n",
    "    # Visualize the voxels\n",
    "    o3d.visualization.draw_geometries([voxel_grid], window_name=\"Voxel Prediction Visualization\")\n",
    "else:\n",
    "    print(\"The DataFrame must include 'x', 'y', 'z', and 'predicted_class' columns.\")\n"
   ]
  },
  {
   "cell_type": "markdown",
   "metadata": {},
   "source": [
    "### Visualising plot of training set"
   ]
  },
  {
   "cell_type": "code",
   "execution_count": 39,
   "metadata": {},
   "outputs": [
    {
     "data": {
      "image/png": "[encoded data removed]",
      "text/plain": [
       "<Figure size 1000x800 with 1 Axes>"
      ]
     },
     "metadata": {},
     "output_type": "display_data"
    }
   ],
   "source": [
    "import matplotlib.pyplot as plt\n",
    "\n",
    "# Step 5: Visualization\n",
    "plt.figure(figsize=(10, 8))\n",
    "\n",
    "# Convert voxel indices to coordinates and plot the training set\n",
    "plt.scatter(\n",
    "    [v[0] * voxel_size + x_min for v in training_indices],\n",
    "    [v[1] * voxel_size + y_min for v in training_indices],\n",
    "    c='blue', label='Training Set', alpha=0.5\n",
    ")\n",
    "\n",
    "# Convert voxel indices to coordinates and plot the test set\n",
    "plt.scatter(\n",
    "    [v[0] * voxel_size + x_min for v in test_indices],\n",
    "    [v[1] * voxel_size + y_min for v in test_indices],\n",
    "    c='red', label='Test Set', alpha=0.5\n",
    ")\n",
    "\n",
    "# Plot diagonal line (or modified diagonal)\n",
    "x_vals = np.linspace(x_min, x_max, 100)\n",
    "y_vals = m * x_vals + b\n",
    "plt.plot(x_vals, y_vals, color='black', label='Diagonal Split')\n",
    "\n",
    "# Add labels and title with threshold_factor\n",
    "plt.xlabel('X Coordinate')\n",
    "plt.ylabel('Y Coordinate')\n",
    "plt.title(f'Training and Test Set Split (with Bias to Bottom-Left Corner,offset= -0,15, threshold_factor = {threshold_factor})')\n",
    "\n",
    "# Display the legend\n",
    "plt.legend()\n",
    "\n",
    "# Save the plot to a file\n",
    "plt.savefig(\"training_test_split_plot-changed_voz_4_.png\")\n",
    "\n",
    "# Show the plot\n",
    "plt.show()\n"
   ]
  },
  {
   "cell_type": "markdown",
   "metadata": {},
   "source": [
    "### Other1: Training data on classification"
   ]
  },
  {
   "cell_type": "code",
   "execution_count": 42,
   "metadata": {},
   "outputs": [],
   "source": [
    "\n",
    "# Drop rows with NaN in the target variable (classification)\n",
    "df_cleaned = df.dropna(subset=['classification'])\n",
    "\n",
    "# Recalculate training and test indices using cleaned data\n",
    "features_df_cleaned = pd.DataFrame.from_dict(voxel_features, orient='index')\n",
    "X_cleaned = features_df_cleaned.drop(columns=['classification'])\n",
    "y_cleaned = features_df_cleaned['classification']\n",
    "\n"
   ]
  },
  {
   "cell_type": "code",
   "execution_count": 43,
   "metadata": {},
   "outputs": [],
   "source": [
    "# Train-test split based on the cleaned data\n",
    "X_train = X_cleaned.loc[training_indices]\n",
    "y_train = y_cleaned.loc[training_indices]\n",
    "X_test = X_cleaned.loc[test_indices]\n",
    "y_test = y_cleaned.loc[test_indices]\n",
    "\n"
   ]
  },
  {
   "cell_type": "code",
   "execution_count": 44,
   "metadata": {},
   "outputs": [
    {
     "data": {
      "text/html": [
       "<div>\n",
       "<style scoped>\n",
       "    .dataframe tbody tr th:only-of-type {\n",
       "        vertical-align: middle;\n",
       "    }\n",
       "\n",
       "    .dataframe tbody tr th {\n",
       "        vertical-align: top;\n",
       "    }\n",
       "\n",
       "    .dataframe thead th {\n",
       "        text-align: right;\n",
       "    }\n",
       "</style>\n",
       "<table border=\"1\" class=\"dataframe\">\n",
       "  <thead>\n",
       "    <tr style=\"text-align: right;\">\n",
       "      <th></th>\n",
       "      <th></th>\n",
       "      <th></th>\n",
       "      <th>linearity</th>\n",
       "      <th>planarity</th>\n",
       "      <th>scattering</th>\n",
       "      <th>omnivariance</th>\n",
       "      <th>sum_of_eigenvalues</th>\n",
       "      <th>anisotropy</th>\n",
       "      <th>eigenentropy</th>\n",
       "      <th>change_of_curvature</th>\n",
       "      <th>residual</th>\n",
       "    </tr>\n",
       "  </thead>\n",
       "  <tbody>\n",
       "    <tr>\n",
       "      <th>50</th>\n",
       "      <th>20</th>\n",
       "      <th>4</th>\n",
       "      <td>0.786402</td>\n",
       "      <td>0.213598</td>\n",
       "      <td>1.713899e-20</td>\n",
       "      <td>8.640898e-07</td>\n",
       "      <td>6.804133</td>\n",
       "      <td>1.000000</td>\n",
       "      <td>-9.881305</td>\n",
       "      <td>1.412246e-20</td>\n",
       "      <td>1.933318</td>\n",
       "    </tr>\n",
       "    <tr>\n",
       "      <th>74</th>\n",
       "      <th>11</th>\n",
       "      <th>8</th>\n",
       "      <td>0.733857</td>\n",
       "      <td>0.260322</td>\n",
       "      <td>5.821403e-03</td>\n",
       "      <td>3.900878e-01</td>\n",
       "      <td>4.288017</td>\n",
       "      <td>0.994179</td>\n",
       "      <td>-3.922406</td>\n",
       "      <td>4.576703e-03</td>\n",
       "      <td>1.590089</td>\n",
       "    </tr>\n",
       "    <tr>\n",
       "      <th>23</th>\n",
       "      <th>7</th>\n",
       "      <th>2</th>\n",
       "      <td>0.615057</td>\n",
       "      <td>0.384509</td>\n",
       "      <td>4.337612e-04</td>\n",
       "      <td>2.533954e-01</td>\n",
       "      <td>6.375058</td>\n",
       "      <td>0.999566</td>\n",
       "      <td>-8.024498</td>\n",
       "      <td>3.130998e-04</td>\n",
       "      <td>1.857756</td>\n",
       "    </tr>\n",
       "    <tr>\n",
       "      <th>59</th>\n",
       "      <th>9</th>\n",
       "      <th>3</th>\n",
       "      <td>0.615354</td>\n",
       "      <td>0.384646</td>\n",
       "      <td>1.144090e-20</td>\n",
       "      <td>2.400297e-07</td>\n",
       "      <td>2.028133</td>\n",
       "      <td>1.000000</td>\n",
       "      <td>-0.235788</td>\n",
       "      <td>8.262693e-21</td>\n",
       "      <td>0.988174</td>\n",
       "    </tr>\n",
       "    <tr>\n",
       "      <th>53</th>\n",
       "      <th>20</th>\n",
       "      <th>3</th>\n",
       "      <td>0.893333</td>\n",
       "      <td>0.106667</td>\n",
       "      <td>9.276226e-21</td>\n",
       "      <td>2.565569e-07</td>\n",
       "      <td>2.849267</td>\n",
       "      <td>1.000000</td>\n",
       "      <td>-2.079943</td>\n",
       "      <td>8.382127e-21</td>\n",
       "      <td>1.310124</td>\n",
       "    </tr>\n",
       "    <tr>\n",
       "      <th>...</th>\n",
       "      <th>...</th>\n",
       "      <th>...</th>\n",
       "      <td>...</td>\n",
       "      <td>...</td>\n",
       "      <td>...</td>\n",
       "      <td>...</td>\n",
       "      <td>...</td>\n",
       "      <td>...</td>\n",
       "      <td>...</td>\n",
       "      <td>...</td>\n",
       "      <td>...</td>\n",
       "    </tr>\n",
       "    <tr>\n",
       "      <th>46</th>\n",
       "      <th>7</th>\n",
       "      <th>2</th>\n",
       "      <td>0.945691</td>\n",
       "      <td>0.054309</td>\n",
       "      <td>1.477103e-35</td>\n",
       "      <td>5.777750e-12</td>\n",
       "      <td>6.555900</td>\n",
       "      <td>1.000000</td>\n",
       "      <td>-10.997020</td>\n",
       "      <td>1.401015e-35</td>\n",
       "      <td>2.036041</td>\n",
       "    </tr>\n",
       "    <tr>\n",
       "      <th>62</th>\n",
       "      <th>32</th>\n",
       "      <th>2</th>\n",
       "      <td>0.720968</td>\n",
       "      <td>0.279032</td>\n",
       "      <td>2.285865e-22</td>\n",
       "      <td>1.071920e-07</td>\n",
       "      <td>3.431433</td>\n",
       "      <td>1.000000</td>\n",
       "      <td>-2.430863</td>\n",
       "      <td>1.787183e-22</td>\n",
       "      <td>1.337370</td>\n",
       "    </tr>\n",
       "    <tr>\n",
       "      <th>64</th>\n",
       "      <th>38</th>\n",
       "      <th>2</th>\n",
       "      <td>0.763643</td>\n",
       "      <td>0.236357</td>\n",
       "      <td>9.960016e-21</td>\n",
       "      <td>1.549691e-06</td>\n",
       "      <td>14.402767</td>\n",
       "      <td>1.000000</td>\n",
       "      <td>-31.390855</td>\n",
       "      <td>8.055935e-21</td>\n",
       "      <td>2.786797</td>\n",
       "    </tr>\n",
       "    <tr>\n",
       "      <th>74</th>\n",
       "      <th>40</th>\n",
       "      <th>7</th>\n",
       "      <td>0.870356</td>\n",
       "      <td>0.129644</td>\n",
       "      <td>2.987115e-19</td>\n",
       "      <td>4.079956e-07</td>\n",
       "      <td>1.362267</td>\n",
       "      <td>1.000000</td>\n",
       "      <td>0.064318</td>\n",
       "      <td>2.644297e-19</td>\n",
       "      <td>0.896633</td>\n",
       "    </tr>\n",
       "    <tr>\n",
       "      <th>77</th>\n",
       "      <th>31</th>\n",
       "      <th>9</th>\n",
       "      <td>0.863729</td>\n",
       "      <td>0.136271</td>\n",
       "      <td>8.245840e-24</td>\n",
       "      <td>2.004138e-08</td>\n",
       "      <td>2.190433</td>\n",
       "      <td>1.000000</td>\n",
       "      <td>-0.914106</td>\n",
       "      <td>7.256931e-24</td>\n",
       "      <td>1.133649</td>\n",
       "    </tr>\n",
       "  </tbody>\n",
       "</table>\n",
       "<p>1127 rows × 9 columns</p>\n",
       "</div>"
      ],
      "text/plain": [
       "         linearity  planarity    scattering  omnivariance  sum_of_eigenvalues  \\\n",
       "50 20 4   0.786402   0.213598  1.713899e-20  8.640898e-07            6.804133   \n",
       "74 11 8   0.733857   0.260322  5.821403e-03  3.900878e-01            4.288017   \n",
       "23 7  2   0.615057   0.384509  4.337612e-04  2.533954e-01            6.375058   \n",
       "59 9  3   0.615354   0.384646  1.144090e-20  2.400297e-07            2.028133   \n",
       "53 20 3   0.893333   0.106667  9.276226e-21  2.565569e-07            2.849267   \n",
       "...            ...        ...           ...           ...                 ...   \n",
       "46 7  2   0.945691   0.054309  1.477103e-35  5.777750e-12            6.555900   \n",
       "62 32 2   0.720968   0.279032  2.285865e-22  1.071920e-07            3.431433   \n",
       "64 38 2   0.763643   0.236357  9.960016e-21  1.549691e-06           14.402767   \n",
       "74 40 7   0.870356   0.129644  2.987115e-19  4.079956e-07            1.362267   \n",
       "77 31 9   0.863729   0.136271  8.245840e-24  2.004138e-08            2.190433   \n",
       "\n",
       "         anisotropy  eigenentropy  change_of_curvature  residual  \n",
       "50 20 4    1.000000     -9.881305         1.412246e-20  1.933318  \n",
       "74 11 8    0.994179     -3.922406         4.576703e-03  1.590089  \n",
       "23 7  2    0.999566     -8.024498         3.130998e-04  1.857756  \n",
       "59 9  3    1.000000     -0.235788         8.262693e-21  0.988174  \n",
       "53 20 3    1.000000     -2.079943         8.382127e-21  1.310124  \n",
       "...             ...           ...                  ...       ...  \n",
       "46 7  2    1.000000    -10.997020         1.401015e-35  2.036041  \n",
       "62 32 2    1.000000     -2.430863         1.787183e-22  1.337370  \n",
       "64 38 2    1.000000    -31.390855         8.055935e-21  2.786797  \n",
       "74 40 7    1.000000      0.064318         2.644297e-19  0.896633  \n",
       "77 31 9    1.000000     -0.914106         7.256931e-24  1.133649  \n",
       "\n",
       "[1127 rows x 9 columns]"
      ]
     },
     "execution_count": 44,
     "metadata": {},
     "output_type": "execute_result"
    }
   ],
   "source": [
    "X_train"
   ]
  },
  {
   "cell_type": "code",
   "execution_count": null,
   "metadata": {},
   "outputs": [],
   "source": []
  },
  {
   "cell_type": "code",
   "execution_count": 45,
   "metadata": {},
   "outputs": [],
   "source": [
    "# Train the RandomForestClassifier\n",
    "clf = RandomForestClassifier(n_estimators=100, random_state=42)\n",
    "clf.fit(X_train, y_train)\n",
    "\n",
    "# Predict the classes for the test set\n",
    "y_pred = clf.predict(X_test)"
   ]
  },
  {
   "cell_type": "code",
   "execution_count": 46,
   "metadata": {},
   "outputs": [
    {
     "name": "stdout",
     "output_type": "stream",
     "text": [
      "Classification Report:\n",
      "                     precision    recall  f1-score   support\n",
      "\n",
      "     Low vegetation       0.09      0.19      0.12        36\n",
      "Impervious surfaces       0.10      0.18      0.13        34\n",
      "        Fence/Hedge       0.00      0.00      0.00         6\n",
      "           Building       0.00      0.00      0.00         1\n",
      "          Farm/Soil       0.74      0.39      0.51       255\n",
      "               Tree       0.45      0.77      0.57        82\n",
      "\n",
      "           accuracy                           0.43       414\n",
      "          macro avg       0.23      0.26      0.22       414\n",
      "       weighted avg       0.56      0.43      0.45       414\n",
      "\n"
     ]
    },
    {
     "name": "stderr",
     "output_type": "stream",
     "text": [
      "/Users/Rebekka/miniconda3/envs/minimal_env/lib/python3.10/site-packages/sklearn/metrics/_classification.py:1531: UndefinedMetricWarning: Precision is ill-defined and being set to 0.0 in labels with no predicted samples. Use `zero_division` parameter to control this behavior.\n",
      "  _warn_prf(average, modifier, f\"{metric.capitalize()} is\", len(result))\n",
      "/Users/Rebekka/miniconda3/envs/minimal_env/lib/python3.10/site-packages/sklearn/metrics/_classification.py:1531: UndefinedMetricWarning: Precision is ill-defined and being set to 0.0 in labels with no predicted samples. Use `zero_division` parameter to control this behavior.\n",
      "  _warn_prf(average, modifier, f\"{metric.capitalize()} is\", len(result))\n",
      "/Users/Rebekka/miniconda3/envs/minimal_env/lib/python3.10/site-packages/sklearn/metrics/_classification.py:1531: UndefinedMetricWarning: Precision is ill-defined and being set to 0.0 in labels with no predicted samples. Use `zero_division` parameter to control this behavior.\n",
      "  _warn_prf(average, modifier, f\"{metric.capitalize()} is\", len(result))\n"
     ]
    }
   ],
   "source": [
    "# Get unique classes from y_test\n",
    "unique_classes = np.unique(y_test)\n",
    "\n",
    "# Mapping for class labels (you can modify this based on your actual class names)\n",
    "class_labels = {\n",
    "    0: 'Chimney',\n",
    "    1: 'Low vegetation',\n",
    "    2: 'Impervious surfaces',\n",
    "    3: 'Car',\n",
    "    4: 'Fence/Hedge',\n",
    "    5: 'Building',\n",
    "    6: 'Water',\n",
    "    7: 'Farm/Soil',\n",
    "    8: 'Tree'\n",
    "}\n",
    "\n",
    "# Create target_names dynamically based on unique classes\n",
    "target_names = [class_labels[class_idx] for class_idx in unique_classes]\n",
    "\n",
    "# Now print the classification report\n",
    "print(\"Classification Report:\")\n",
    "print(classification_report(y_test, y_pred, target_names=target_names))"
   ]
  },
  {
   "cell_type": "code",
   "execution_count": 47,
   "metadata": {},
   "outputs": [
    {
     "ename": "NameError",
     "evalue": "name 'training_set' is not defined",
     "output_type": "error",
     "traceback": [
      "\u001b[0;31m---------------------------------------------------------------------------\u001b[0m",
      "\u001b[0;31mNameError\u001b[0m                                 Traceback (most recent call last)",
      "Cell \u001b[0;32mIn[47], line 2\u001b[0m\n\u001b[1;32m      1\u001b[0m \u001b[38;5;66;03m# Save to CSV\u001b[39;00m\n\u001b[0;32m----> 2\u001b[0m \u001b[43mtraining_set\u001b[49m\u001b[38;5;241m.\u001b[39mto_csv(\u001b[38;5;124m\"\u001b[39m\u001b[38;5;124mtraining_set.csv\u001b[39m\u001b[38;5;124m\"\u001b[39m, index_label\u001b[38;5;241m=\u001b[39m\u001b[38;5;124m\"\u001b[39m\u001b[38;5;124mvoxel_id\u001b[39m\u001b[38;5;124m\"\u001b[39m)\n\u001b[1;32m      3\u001b[0m test_set\u001b[38;5;241m.\u001b[39mto_csv(\u001b[38;5;124m\"\u001b[39m\u001b[38;5;124mtest_set.csv\u001b[39m\u001b[38;5;124m\"\u001b[39m, index_label\u001b[38;5;241m=\u001b[39m\u001b[38;5;124m\"\u001b[39m\u001b[38;5;124mvoxel_id\u001b[39m\u001b[38;5;124m\"\u001b[39m)\n",
      "\u001b[0;31mNameError\u001b[0m: name 'training_set' is not defined"
     ]
    }
   ],
   "source": [
    "# Save to CSV\n",
    "training_set.to_csv(\"training_set.csv\", index_label=\"voxel_id\")\n",
    "test_set.to_csv(\"test_set.csv\", index_label=\"voxel_id\")\n"
   ]
  },
  {
   "cell_type": "code",
   "execution_count": null,
   "metadata": {},
   "outputs": [
    {
     "name": "stdout",
     "output_type": "stream",
     "text": [
      "x_min: 568800.14, x_max: 569268.19\n",
      "y_min: 7022124.96, y_max: 7022399.97\n",
      "           x           y       z  classification  intensity\n",
      "0  569262.78  7022239.13  212.17               8      47775\n",
      "1  569025.65  7022374.57  166.45               7      49500\n",
      "2  569144.93  7022133.95  176.99               2      40413\n",
      "3  568991.14  7022140.80  169.77               7      48102\n",
      "4  569017.82  7022268.13  175.62               2      43995\n"
     ]
    }
   ],
   "source": [
    "print(f\"x_min: {x_min}, x_max: {x_max}\")\n",
    "print(f\"y_min: {y_min}, y_max: {y_max}\")\n",
    "print(df.head())"
   ]
  },
  {
   "cell_type": "code",
   "execution_count": 48,
   "metadata": {},
   "outputs": [
    {
     "name": "stdout",
     "output_type": "stream",
     "text": [
      "Unique classes in classification column with their counts:\n",
      "classification\n",
      "8    3548\n",
      "7    3361\n",
      "1    1810\n",
      "2    1157\n",
      "5      92\n",
      "4      30\n",
      "3       2\n",
      "Name: count, dtype: int64\n"
     ]
    }
   ],
   "source": [
    "# Print unique classes and their counts in the classification column\n",
    "print(\"Unique classes in classification column with their counts:\")\n",
    "print(df['classification'].value_counts())"
   ]
  },
  {
   "cell_type": "code",
   "execution_count": 49,
   "metadata": {},
   "outputs": [
    {
     "name": "stdout",
     "output_type": "stream",
     "text": [
      "         linearity  planarity    scattering  omnivariance  sum_of_eigenvalues  \\\n",
      "50 20 4   0.786402   0.213598  1.713899e-20  8.640898e-07            6.804133   \n",
      "74 11 8   0.733857   0.260322  5.821403e-03  3.900878e-01            4.288017   \n",
      "11 34 3   0.721414   0.278586  6.262639e-08  1.463644e-02            7.215392   \n",
      "23 7  2   0.615057   0.384509  4.337612e-04  2.533954e-01            6.375058   \n",
      "59 9  3   0.615354   0.384646  1.144090e-20  2.400297e-07            2.028133   \n",
      "\n",
      "         anisotropy  eigenentropy  change_of_curvature  residual  \\\n",
      "50 20 4    1.000000     -9.881305         1.412246e-20  1.933318   \n",
      "74 11 8    0.994179     -3.922406         4.576703e-03  1.590089   \n",
      "11 34 3    1.000000    -10.476725         4.898099e-08  2.057291   \n",
      "23 7  2    0.999566     -8.024498         3.130998e-04  1.857756   \n",
      "59 9  3    1.000000     -0.235788         8.262693e-21  0.988174   \n",
      "\n",
      "         classification  is_training  \n",
      "50 20 4               8         True  \n",
      "74 11 8               8         True  \n",
      "11 34 3               2        False  \n",
      "23 7  2               2         True  \n",
      "59 9  3               8         True  \n",
      "Classification Summary (Grouped by Training/Test):\n",
      "is_training     False  True \n",
      "classification              \n",
      "1                  36    245\n",
      "2                  34    163\n",
      "4                   6      0\n",
      "5                   1      7\n",
      "7                 255    285\n",
      "8                  82    427\n"
     ]
    }
   ],
   "source": [
    "#  Create DataFrames for training and test sets\n",
    "features_df = pd.DataFrame.from_dict(voxel_features, orient='index')\n",
    "\n",
    "features_df['is_training'] = features_df.index.map(lambda idx: idx in training_indices)\n",
    "training_set = features_df[features_df['is_training']]\n",
    "test_set = features_df[~features_df['is_training']]\n",
    "classification_summary = features_df.groupby(['classification', 'is_training']).size().unstack(fill_value=0)\n",
    "print(features_df.head())\n",
    "print(\"Classification Summary (Grouped by Training/Test):\")\n",
    "print(classification_summary)"
   ]
  },
  {
   "cell_type": "markdown",
   "metadata": {},
   "source": [
    "## Other"
   ]
  },
  {
   "cell_type": "code",
   "execution_count": 13,
   "metadata": {},
   "outputs": [
    {
     "name": "stdout",
     "output_type": "stream",
     "text": [
      "Voxel at depth 5 with 123 points exceeds max points threshold.\n",
      "Voxel at depth 5 with 145 points exceeds max points threshold.\n",
      "Voxel at depth 5 with 106 points exceeds max points threshold.\n",
      "Voxel at depth 5 with 110 points exceeds max points threshold.\n",
      "Voxel at depth 5 with 105 points exceeds max points threshold.\n",
      "Voxel at depth 5 with 103 points exceeds max points threshold.\n",
      "Voxel at depth 5 with 145 points exceeds max points threshold.\n"
     ]
    }
   ],
   "source": [
    "'''\n",
    "def voxelize_with_constraints(pcd, voxel_size=1.0, max_depth=5, max_points_per_voxel=50):\n",
    "    # Create an empty octree with the specified max depth\n",
    "    octree = o3d.geometry.Octree(max_depth=max_depth)\n",
    "    octree.convert_from_point_cloud(pcd, size_expand=voxel_size)\n",
    "\n",
    "    # Traverse the octree and apply constraints\n",
    "    def traverse_and_apply_constraints(node, depth):\n",
    "        if isinstance(node, o3d.geometry.OctreeInternalNode):\n",
    "            # Access children directly using the node.children list\n",
    "            for child in node.children:\n",
    "                if child is not None:  # Check if child exists\n",
    "                    traverse_and_apply_constraints(child, depth + 1)\n",
    "        elif isinstance(node, o3d.geometry.OctreeLeafNode):\n",
    "            if len(node.indices) > max_points_per_voxel:\n",
    "                print(f\"Voxel at depth {depth} with {len(node.indices)} points exceeds max points threshold.\")\n",
    "\n",
    "    traverse_and_apply_constraints(octree.root_node, depth=0)\n",
    "    return octree\n",
    "\n",
    "# Apply constrained voxelization\n",
    "voxel_size = 1.0       # Minimum voxel size\n",
    "max_depth = 5          # Maximum depth of the octree\n",
    "max_points_per_voxel = 100  # Maximum points allowed in a voxel\n",
    "\n",
    "octree = voxelize_with_constraints(pcd, voxel_size, max_depth, max_points_per_voxel)\n",
    "'''"
   ]
  },
  {
   "cell_type": "code",
   "execution_count": null,
   "metadata": {},
   "outputs": [],
   "source": [
    "#Visualising octtree\n",
    "#o3d.visualization.draw_geometries([octree], window_name=\"Constrained Voxelized Octree\")\n"
   ]
  },
  {
   "cell_type": "code",
   "execution_count": null,
   "metadata": {},
   "outputs": [],
   "source": [
    "#Visualising voxel\n",
    "#o3d.visualization.draw_geometries([voxel_grid], window_name=\"Voxel Grid Visualization\", width=800, height=600)\n"
   ]
  },
  {
   "cell_type": "code",
   "execution_count": 12,
   "metadata": {},
   "outputs": [],
   "source": [
    "# Step 2 & 3: Feature Selection and Calculation\n",
    "# Extract voxel-based features: mean, std dev of intensity within each voxel\n",
    "df['voxel_id'] = df[['x', 'y', 'z']].apply(lambda row: tuple(voxel_grid.get_voxel(np.array(row))), axis=1)\n",
    "\n",
    "# Group by voxel ID and calculate desired statistics\n",
    "voxel_features = df.groupby('voxel_id').agg({\n",
    "    'intensity': ['mean', 'std'],\n",
    "    'x': 'mean', 'y': 'mean', 'z': 'mean'\n",
    "}).fillna(0)\n",
    "\n",
    "# Flatten the MultiIndex columns\n",
    "voxel_features.columns = ['_'.join(col) for col in voxel_features.columns]"
   ]
  },
  {
   "cell_type": "code",
   "execution_count": 14,
   "metadata": {},
   "outputs": [],
   "source": [
    "features = voxel_features\n",
    "labels = df.groupby('voxel_id')['classification'].first()"
   ]
  },
  {
   "cell_type": "code",
   "execution_count": 15,
   "metadata": {},
   "outputs": [
    {
     "name": "stdout",
     "output_type": "stream",
     "text": [
      "Classification Report:\n",
      "               precision    recall  f1-score   support\n",
      "\n",
      "           1       0.85      0.83      0.84       441\n",
      "           2       0.89      0.89      0.89       259\n",
      "           3       0.00      0.00      0.00         3\n",
      "           4       0.00      0.00      0.00         4\n",
      "           5       1.00      0.62      0.76        26\n",
      "           7       0.94      0.97      0.95       771\n",
      "           8       0.94      0.94      0.94       882\n",
      "\n",
      "    accuracy                           0.92      2386\n",
      "   macro avg       0.66      0.61      0.63      2386\n",
      "weighted avg       0.91      0.92      0.92      2386\n",
      "\n"
     ]
    },
    {
     "name": "stderr",
     "output_type": "stream",
     "text": [
      "/Users/Rebekka/miniconda3/envs/minimal_env/lib/python3.10/site-packages/sklearn/metrics/_classification.py:1531: UndefinedMetricWarning: Precision is ill-defined and being set to 0.0 in labels with no predicted samples. Use `zero_division` parameter to control this behavior.\n",
      "  _warn_prf(average, modifier, f\"{metric.capitalize()} is\", len(result))\n",
      "/Users/Rebekka/miniconda3/envs/minimal_env/lib/python3.10/site-packages/sklearn/metrics/_classification.py:1531: UndefinedMetricWarning: Precision is ill-defined and being set to 0.0 in labels with no predicted samples. Use `zero_division` parameter to control this behavior.\n",
      "  _warn_prf(average, modifier, f\"{metric.capitalize()} is\", len(result))\n",
      "/Users/Rebekka/miniconda3/envs/minimal_env/lib/python3.10/site-packages/sklearn/metrics/_classification.py:1531: UndefinedMetricWarning: Precision is ill-defined and being set to 0.0 in labels with no predicted samples. Use `zero_division` parameter to control this behavior.\n",
      "  _warn_prf(average, modifier, f\"{metric.capitalize()} is\", len(result))\n"
     ]
    }
   ],
   "source": [
    "# Split data into training and test sets\n",
    "X_train, X_test, y_train, y_test = train_test_split(features, labels, test_size=0.3, random_state=42)\n",
    "\n",
    "# Initialize and train classifier\n",
    "clf = RandomForestClassifier(n_estimators=100, random_state=42)\n",
    "clf.fit(X_train, y_train)\n",
    "\n",
    "# Evaluate classifier\n",
    "y_pred = clf.predict(X_test)\n",
    "print(\"Classification Report:\\n\", classification_report(y_test, y_pred))"
   ]
  },
  {
   "cell_type": "markdown",
   "metadata": {},
   "source": []
  },
  {
   "cell_type": "markdown",
   "metadata": {},
   "source": [
    "## Other 2"
   ]
  },
  {
   "cell_type": "markdown",
   "metadata": {},
   "source": [
    "# The classes need to be labeled for TBA-4256\n",
    "# scalar field name: class\n",
    "########\n",
    "0 Chimney\n",
    "1 Low vegetation\n",
    "2 Impervious surfaces\n",
    "3 Car\n",
    "4 Fence/Hedge\n",
    "5 Building\n",
    "6 Water\n",
    "7 Farm/Soil\n",
    "8 Tree"
   ]
  }
 ],
 "metadata": {
  "kernelspec": {
   "display_name": "minimal_env",
   "language": "python",
   "name": "python3"
  },
  "language_info": {
   "codemirror_mode": {
    "name": "ipython",
    "version": 3
   },
   "file_extension": ".py",
   "mimetype": "text/x-python",
   "name": "python",
   "nbconvert_exporter": "python",
   "pygments_lexer": "ipython3",
   "version": "3.10.15"
  }
 },
 "nbformat": 4,
 "nbformat_minor": 2
}
